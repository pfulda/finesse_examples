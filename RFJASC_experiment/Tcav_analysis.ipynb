{
 "cells": [
  {
   "cell_type": "code",
   "execution_count": 153,
   "metadata": {
    "collapsed": false
   },
   "outputs": [],
   "source": [
    "import pylab as pl\n",
    "import pykat\n",
    "import numpy as np\n",
    "% matplotlib inline\n",
    "import matplotlib as plt"
   ]
  },
  {
   "cell_type": "code",
   "execution_count": 154,
   "metadata": {
    "collapsed": false
   },
   "outputs": [],
   "source": [
    "katfile = 'Tcav_RFjitter.kat'\n",
    "\n",
    "basekat = pykat.finesse.kat()\n",
    "\n",
    "basekat.loadKatFile(katfile)\n",
    "\n",
    "# PDH signal\n",
    "# kat = basekat.deepcopy()\n",
    "\n",
    "# kat.parseCommands(\"xaxis MC2 phi lin -90 90 180\")\n",
    "\n",
    "# out=kat.run()\n",
    "# pl.figure()\n",
    "# pl.plot(out.x,out['PDREFLPDH_I'], label='PDH I')\n",
    "# pl.plot(out.x,out['PDREFLPDH_Q'], label='PDH Q')\n",
    "# pl.legend()\n",
    "# pl.xlabel('MC2 tuning [deg]')\n",
    "# pl.ylabel('Error signal [W]')\n",
    "# pl.grid()\n"
   ]
  },
  {
   "cell_type": "code",
   "execution_count": 155,
   "metadata": {
    "collapsed": false
   },
   "outputs": [
    {
     "name": "stdout",
     "output_type": "stream",
     "text": [
      "--------------------------------------------------------------\n",
      "Running kat - Started at 2016-01-20 19:28:01.256387\n",
      "\n",
      "Finished in 0:00:00.481602\n",
      "--------------------------------------------------------------\n",
      "Running kat - Started at 2016-01-20 19:28:01.775555\n",
      "\n",
      "Finished in 0:00:00.071002\n",
      "--------------------------------------------------------------\n",
      "Running kat - Started at 2016-01-20 19:28:01.880323\n",
      "\n",
      "Finished in 0:00:00.101036\n",
      "--------------------------------------------------------------\n",
      "Running kat - Started at 2016-01-20 19:28:02.014941\n",
      "\n",
      "Finished in 0:00:00.067663\n",
      "--------------------------------------------------------------\n",
      "Running kat - Started at 2016-01-20 19:28:02.126147\n",
      "\n",
      "Finished in 0:00:00.042777\n"
     ]
    },
    {
     "data": {
      "image/png": "[encoded data removed]",
      "text/plain": [
       "<matplotlib.figure.Figure at 0x10b9c2290>"
      ]
     },
     "metadata": {},
     "output_type": "display_data"
    }
   ],
   "source": [
    "# plot beam size and Gouy phase over the distance between EOBD and L1\n",
    "\n",
    "um=1e6\n",
    "mm=1e3\n",
    "\n",
    "sEOBDtoL1 = basekat.sEOBDtoL1.L.value\n",
    "sL1toL2 = basekat.sL1toL2.L.value\n",
    "sL2toPZT5 = basekat.sL2toPZT5.L.value\n",
    "sPZT5toPZT4 = basekat.sPZT5toPZT4.L.value\n",
    "sPZT4toMC1 = basekat.sPZT4toMC1.L.value\n",
    "\n",
    "kat=basekat.deepcopy()\n",
    "text=(\"\"\"\n",
    "bp wx_at_EOBD x w nEOBDout\n",
    "bp wy_at_EOBD y w nEOBDout\n",
    "gouy gouyx x sEOBDtoL1\n",
    "gouy gouyy y sEOBDtoL1\n",
    "xaxis sEOBDtoL1 l lin 0 %g 45\"\"\") % (sEOBDtoL1+0.4)\n",
    "kat.parseCommands(text)\n",
    "out1=kat.run()\n",
    "out1_z = sEOBDtoL1-out1.x[::-1]\n",
    "gouyxmax1=max(out1['gouyx'])\n",
    "\n",
    "kat=basekat.deepcopy()\n",
    "text=(\"\"\"\n",
    "bp wx_at_L1 x w nL1out\n",
    "bp wy_at_L1 y w nL1out\n",
    "gouy gouyx x sL1toL2\n",
    "gouy gouyy y sL1toL2\n",
    "xaxis sL1toL2 l lin 0 %g 15\"\"\") % sL1toL2\n",
    "kat.parseCommands(text)\n",
    "\n",
    "out2=kat.run()\n",
    "out2_z = sL1toL2-out2.x[::-1] + max(out1_z)\n",
    "gouyxmax2=max(out2['gouyx'])\n",
    "\n",
    "kat=basekat.deepcopy()\n",
    "text=(\"\"\"\n",
    "bp wx_at_L2 x w nL2out\n",
    "bp wy_at_L2 y w nL2out\n",
    "gouy gouyx x sL2toPZT5\n",
    "gouy gouyy y sL2toPZT5\n",
    "xaxis sL2toPZT5 l lin 0 %g 69\"\"\") % sL2toPZT5\n",
    "\n",
    "kat.parseCommands(text)\n",
    "\n",
    "out3=kat.run()\n",
    "out3_z = sL2toPZT5-out3.x[::-1] + max(out2_z)\n",
    "gouyxmax3=max(out3['gouyx'])\n",
    "\n",
    "kat=basekat.deepcopy()\n",
    "text=(\"\"\"\n",
    "bp wx_at_PZT5 x w nPZT5refl\n",
    "bp wy_at_PZT5 y w nPZT5refl\n",
    "gouy gouyx x sPZT5toPZT4\n",
    "gouy gouyy y sPZT5toPZT4\n",
    "xaxis sPZT5toPZT4 l lin 0 %g 32\"\"\") % sPZT5toPZT4\n",
    "\n",
    "kat.parseCommands(text)\n",
    "out4=kat.run()\n",
    "out4_z = sPZT5toPZT4-out4.x[::-1] + max(out3_z)\n",
    "gouyxmax4=max(out4['gouyx'])\n",
    "\n",
    "kat=basekat.deepcopy()\n",
    "text=(\"\"\"\n",
    "bp wx_at_MC1 x w nPZT4refl\n",
    "bp wy_at_MC1 y w nPZT4refl\n",
    "gouy gouyx x sPZT4toMC1\n",
    "gouy gouyy y sPZT4toMC1\n",
    "xaxis sPZT4toMC1 l lin 0 %g 24\"\"\") % sPZT4toMC1\n",
    "\n",
    "kat.parseCommands(text)\n",
    "\n",
    "kat.saveScript('check.kat')\n",
    "\n",
    "out5=kat.run()\n",
    "out5_z = sPZT4toMC1-out5.x[::-1] + max(out4_z)\n",
    "gouyxmax5=max(out5['gouyx'])\n",
    "\n",
    "out_z = np.hstack((out1_z,out2_z,out3_z,out4_z,out5_z))\n",
    "out_wx = np.hstack((out1['wx_at_EOBD'][::-1],out2['wx_at_L1'][::-1],out3['wx_at_L2'][::-1],out4['wx_at_PZT5'][::-1],out5['wx_at_MC1'][::-1]))*mm\n",
    "\n",
    "out_gouyx = -np.hstack((out1['gouyx'][::-1]+gouyxmax2+gouyxmax3+gouyxmax4+gouyxmax5,\n",
    "                      out2['gouyx'][::-1]+gouyxmax3+gouyxmax4+gouyxmax5,\n",
    "                      out3['gouyx'][::-1]+gouyxmax4+gouyxmax5,\n",
    "                      out4['gouyx'][::-1]+gouyxmax5,\n",
    "                      out5['gouyx'][::-1]))\n",
    "label_h=max(out_wx)*1.2\n",
    "label_hoff=-0.05\n",
    "\n",
    "pl.figure()\n",
    "pl.subplot(211)\n",
    "pl.plot(out_z,out_wx, label='xaxis')\n",
    "pl.ylabel('Beam radius [mm]')\n",
    "pl.ylim((0,max(out_wx)*1.4))\n",
    "pl.axvline(0,0,max(out_wx)*0.7,linestyle='--',color='k')\n",
    "pl.annotate(s='EOBD',xy=(0+label_hoff,label_h))\n",
    "pl.axvline(sEOBDtoL1,0,max(out_wx)*0.7,linestyle='--',color='k')\n",
    "pl.annotate(s='L1',xy=(sEOBDtoL1+label_hoff,label_h))\n",
    "pl.axvline(sEOBDtoL1+sL1toL2,0,max(out_wx)*0.7,linestyle='--',color='k')\n",
    "pl.annotate(s='L2',xy=(sEOBDtoL1+sL1toL2+label_hoff,label_h))\n",
    "pl.axvline(sEOBDtoL1+sL1toL2+sL2toPZT5,0,max(out_wx)*0.7,linestyle='--',color='k')\n",
    "pl.annotate(s='PZT5',xy=(sEOBDtoL1+sL1toL2+sL2toPZT5+label_hoff,label_h))\n",
    "pl.axvline(sEOBDtoL1+sL1toL2+sL2toPZT5+sPZT5toPZT4,0,max(out_wx)*0.7,linestyle='--',color='k')\n",
    "pl.annotate(s='PZT4',xy=(sEOBDtoL1+sL1toL2+sL2toPZT5+sPZT5toPZT4+label_hoff,label_h))\n",
    "pl.axvline(sEOBDtoL1+sL1toL2+sL2toPZT5+sPZT5toPZT4+sPZT4toMC1,0,max(out_wx)*0.7,linestyle='--',color='k')\n",
    "pl.annotate(s='MC1',xy=(sEOBDtoL1+sL1toL2+sL2toPZT5+sPZT5toPZT4+sPZT4toMC1+label_hoff,label_h))\n",
    "pl.grid()\n",
    "pl.title('Beam profile between EOBD and cavity input mirror')\n",
    "\n",
    "pl.subplot(212)\n",
    "pl.plot(out_z,out_gouyx, label='xaxis')\n",
    "pl.xlabel('Distance from EOBD [m]')\n",
    "pl.ylabel('Gouy phase [deg]')\n",
    "pl.axvline(0,linestyle='--',color='k')\n",
    "pl.axvline(sEOBDtoL1,linestyle='--',color='k')\n",
    "pl.axvline(sEOBDtoL1+sL1toL2,linestyle='--',color='k')\n",
    "pl.axvline(sEOBDtoL1+sL1toL2+sL2toPZT5,linestyle='--',color='k')\n",
    "pl.axvline(sEOBDtoL1+sL1toL2+sL2toPZT5+sPZT5toPZT4,linestyle='--',color='k')\n",
    "pl.axvline(sEOBDtoL1+sL1toL2+sL2toPZT5+sPZT5toPZT4+sPZT4toMC1,linestyle='--',color='k')\n",
    "pl.axhline(-90,linestyle='--',color='k')\n",
    "pl.grid()\n",
    "pl.savefig('EOBDtoMC1profile.pdf')"
   ]
  },
  {
   "cell_type": "code",
   "execution_count": 156,
   "metadata": {
    "collapsed": false
   },
   "outputs": [
    {
     "name": "stdout",
     "output_type": "stream",
     "text": [
      "--------------------------------------------------------------\n",
      "Running kat - Started at 2016-01-20 19:28:02.899282\n",
      "\n",
      "Finished in 0:00:00.052883\n",
      "waist size at EOBD is 303.741837938um\n",
      "divergence angle at EOBD is 1.1150315057 mrad\n",
      "--------------------------------------------------------------\n",
      "Running kat - Started at 2016-01-20 19:28:02.976261\n",
      "\n",
      "Finished in 0:00:00.053815\n",
      "waist size at EOBD is 1026.79684161um\n",
      "divergence angle of cavity waist is 0.3298429691 mrad\n"
     ]
    }
   ],
   "source": [
    "# Calculate some useful beam parameters\n",
    "\n",
    "kat=basekat.deepcopy()\n",
    "kat.parseCommands('bp w0atEOBD x w0 nEOBDout')\n",
    "kat.noxaxis=True\n",
    "out=kat.run()\n",
    "\n",
    "print 'waist size at EOBD is '+str(out['w0atEOBD']*um)+'um'\n",
    "print 'divergence angle at EOBD is '+str(1064e-9/pl.pi/out['w0atEOBD']*1000)+' mrad'\n",
    "\n",
    "kat=basekat.deepcopy()\n",
    "kat.parseCommands('bp w0cav x w0 nMC2in')\n",
    "kat.noxaxis=True\n",
    "out=kat.run()\n",
    "\n",
    "print 'waist size at EOBD is '+str(out['w0cav']*um)+'um'\n",
    "print 'divergence angle of cavity waist is '+str(1064e-9/pl.pi/out['w0cav']*1000)+' mrad'\n"
   ]
  },
  {
   "cell_type": "code",
   "execution_count": 157,
   "metadata": {
    "collapsed": false
   },
   "outputs": [
    {
     "name": "stdout",
     "output_type": "stream",
     "text": [
      "PZT4 must be driven 2.1149825784 times harder than PZT5 to get tilt only\n"
     ]
    }
   ],
   "source": [
    "# calculate PZT pitch tilt degree of freedom \n",
    "sMC1toMC3 = basekat.sMC1toMC3.L.value\n",
    "d_PZT5to_cavw0 = sPZT5toPZT4 + sPZT4toMC1 + 0.5*sMC1toMC3\n",
    "d_PZT4to_cavw0 = sPZT4toMC1 + 0.5*sMC1toMC3\n",
    "drive_ratio = d_PZT5to_cavw0/d_PZT4to_cavw0\n",
    "print \"PZT4 must be driven \"+str(drive_ratio)+\" times harder than PZT5 to get tilt only\"\n"
   ]
  },
  {
   "cell_type": "code",
   "execution_count": 158,
   "metadata": {
    "collapsed": false
   },
   "outputs": [
    {
     "name": "stdout",
     "output_type": "stream",
     "text": [
      "--------------------------------------------------------------\n",
      "Running kat - Started at 2016-01-20 19:28:07.295502\n",
      "\n",
      "Finished in 0:00:02.507508\n",
      "HG01 mode is resonant at 14730000.0 Hz\n"
     ]
    },
    {
     "data": {
      "image/png": "[encoded data removed]",
      "text/plain": [
       "<matplotlib.figure.Figure at 0x10ab31f50>"
      ]
     },
     "metadata": {},
     "output_type": "display_data"
    }
   ],
   "source": [
    "# Check resonance frequency of HG01 mode\n",
    "MHz=1e-6\n",
    "\n",
    "kat = basekat.deepcopy()\n",
    "\n",
    "kat.parseCommands(\"\"\"\n",
    "attr PZT5 ybeta 10u\n",
    "pd PDtrans nMCTRANS\n",
    "xaxis laser f lin 12M 17M 5000\"\"\")\n",
    "\n",
    "out=kat.run()\n",
    "\n",
    "pl.figure()\n",
    "pl.semilogy(out.x*MHz,out['PDtrans'])\n",
    "pl.xlabel('laser frequency [Hz]')\n",
    "pl.ylabel('Transmitted power [W]')\n",
    "pl.grid()\n",
    "xs=out.x\n",
    "maxval=max(out['PDtrans'])\n",
    "index_max=out['PDtrans'].argmax()\n",
    "max_f=xs[index_max]\n",
    "print \"HG01 mode is resonant at \"+str(max_f)+\" Hz\"\n",
    "#checkvec=out['PDtrans']-maxval\n"
   ]
  },
  {
   "cell_type": "code",
   "execution_count": 160,
   "metadata": {
    "collapsed": false
   },
   "outputs": [
    {
     "name": "stdout",
     "output_type": "stream",
     "text": [
      "--------------------------------------------------------------\n",
      "Running kat - Started at 2016-01-20 19:28:52.048616\n",
      "** Warning: name 'translation' already used. This may cause confusion.\n",
      "\n",
      "Finished in 0:00:00.482659\n",
      "I-phase response to translation = -0.000176264108907 W/rad on PZT5\n",
      "Q-phase response to translation = 0.0697129841328 W/rad on PZT5\n",
      "Quadrature sum of responses = 0.0695367200239\n",
      "--------------------------------------------------------------\n",
      "Running kat - Started at 2016-01-20 19:28:52.568161\n",
      "** Warning: name 'tilt' already used. This may cause confusion.\n",
      "\n",
      "Finished in 0:00:00.078337\n",
      "I-phase response to tilt = 0.777616837264 W/rad on PZT5\n",
      "Q-phase response to tilt = -0.0288423041982 W/rad on PZT5\n"
     ]
    }
   ],
   "source": [
    "# Check ratio of alignment error signal responses or two DOFs at 14730000 Hz jitter frequency\n",
    "\n",
    "kat = basekat.deepcopy()\n",
    "\n",
    "Iphase = 70.25\n",
    "\n",
    "Qphase = Iphase - 90\n",
    "\n",
    "text=(\"\"\"\n",
    "fsig translation PZT5 ybeta $fdither 0 1\n",
    "fsig translation PZT4 ybeta $fdither 180 1\n",
    "\n",
    "pd2 ASCPDREFL_I $fjitter %g $fdither 0 nPDREFLin\n",
    "pd2 ASCPDREFL_Q $fjitter %g $fdither 0 nPDREFLin\n",
    "\"\"\") % (Iphase, Qphase)\n",
    "\n",
    "kat.parseCommands(text)\n",
    "kat.noxaxis=True\n",
    "out=kat.run()\n",
    "print \"I-phase response to translation = \" +str(out['ASCPDREFL_I'])+\" W/rad on PZT5\"\n",
    "print \"Q-phase response to translation = \" +str(out['ASCPDREFL_Q'])+\" W/rad on PZT5\"\n",
    "\n",
    "#print \"Quadrature sum of responses = \"+str(out['ASCPDREFL_I']+out['ASCPDREFL_Q'])\n",
    "\n",
    "kat = basekat.deepcopy()\n",
    "\n",
    "text=(\"\"\"\n",
    "fsig tilt PZT5 ybeta $fdither 0 1\n",
    "fsig tilt PZT4 ybeta $fdither 180 %g\n",
    "\n",
    "pd2 ASCPDREFL_I $fjitter %g $fdither 0 nPDREFLin\n",
    "pd2 ASCPDREFL_Q $fjitter %g $fdither 0 nPDREFLin\n",
    "\"\"\") % (drive_ratio, Iphase, Qphase)\n",
    "\n",
    "kat.parseCommands(text)\n",
    "kat.noxaxis=True\n",
    "out=kat.run()\n",
    "print \"I-phase response to tilt = \" +str(out['ASCPDREFL_I'])+\" W/rad on PZT5\"\n",
    "print \"Q-phase response to tilt = \" +str(out['ASCPDREFL_Q'])+\" W/rad on PZT5\"\n",
    "\n",
    "#print \"Quadrature sum of responses = \"+str(out['ASCPDREFL_I']+out['ASCPDREFL_Q'])\n"
   ]
  }
 ],
 "metadata": {
  "kernelspec": {
   "display_name": "Python 2",
   "language": "python",
   "name": "python2"
  },
  "language_info": {
   "codemirror_mode": {
    "name": "ipython",
    "version": 2
   },
   "file_extension": ".py",
   "mimetype": "text/x-python",
   "name": "python",
   "nbconvert_exporter": "python",
   "pygments_lexer": "ipython2",
   "version": "2.7.10"
  }
 },
 "nbformat": 4,
 "nbformat_minor": 0
}
