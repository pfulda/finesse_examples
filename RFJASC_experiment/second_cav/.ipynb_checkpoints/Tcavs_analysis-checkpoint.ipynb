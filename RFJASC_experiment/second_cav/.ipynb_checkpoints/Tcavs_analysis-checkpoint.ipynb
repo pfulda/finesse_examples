{
 "cells": [
  {
   "cell_type": "code",
   "execution_count": 7,
   "metadata": {
    "collapsed": false
   },
   "outputs": [],
   "source": [
    "import pylab as pl\n",
    "import pykat\n",
    "import numpy as np\n",
    "% matplotlib inline\n",
    "import matplotlib as plt"
   ]
  },
  {
   "cell_type": "code",
   "execution_count": 90,
   "metadata": {
    "collapsed": false
   },
   "outputs": [],
   "source": [
    "# Read in kat file\n",
    "\n",
    "katfile = 'Tcavs_RFjitter.kat'\n",
    "\n",
    "basekat = pykat.finesse.kat()\n",
    "\n",
    "basekat.loadKatFile(katfile)\n",
    "\n",
    "# PDH signal\n",
    "# kat = basekat.deepcopy()\n",
    "\n",
    "# kat.parseCommands(\"xaxis MC2 phi lin -90 90 180\")\n",
    "\n",
    "# out=kat.run()\n",
    "# pl.figure()\n",
    "# pl.plot(out.x,out['PDREFLPDH_I'], label='PDH I')\n",
    "# pl.plot(out.x,out['PDREFLPDH_Q'], label='PDH Q')\n",
    "# pl.legend()\n",
    "# pl.xlabel('MC2 tuning [deg]')\n",
    "# pl.ylabel('Error signal [W]')\n",
    "# pl.grid()\n"
   ]
  },
  {
   "cell_type": "code",
   "execution_count": 91,
   "metadata": {
    "collapsed": false
   },
   "outputs": [
    {
     "name": "stdout",
     "output_type": "stream",
     "text": [
      "--------------------------------------------------------------\n",
      "Running kat - Started at 2016-02-01 11:58:12.107991\n",
      "\n",
      "Finished in 0:00:00.574593\n",
      "--------------------------------------------------------------\n",
      "Running kat - Started at 2016-02-01 11:58:12.732854\n",
      "\n",
      "Finished in 0:00:00.086204\n",
      "--------------------------------------------------------------\n",
      "Running kat - Started at 2016-02-01 11:58:12.866529\n",
      "\n",
      "Finished in 0:00:00.123614\n",
      "--------------------------------------------------------------\n",
      "Running kat - Started at 2016-02-01 11:58:13.039990\n",
      "\n",
      "Finished in 0:00:00.075476\n",
      "--------------------------------------------------------------\n",
      "Running kat - Started at 2016-02-01 11:58:13.186761\n",
      "\n",
      "Finished in 0:00:00.109034\n"
     ]
    },
    {
     "data": {
      "image/png": "[encoded data removed]",
      "text/plain": [
       "<matplotlib.figure.Figure at 0x10ccef190>"
      ]
     },
     "metadata": {},
     "output_type": "display_data"
    }
   ],
   "source": [
    "# plot beam size and Gouy phase over the distance between EOBD and L1\n",
    "\n",
    "um=1e6\n",
    "mm=1e3\n",
    "\n",
    "sEOBDtoL1 = basekat.sEOBDtoL1.L.value\n",
    "sL1toL2 = basekat.sL1toL2.L.value\n",
    "sL2toPZT5 = basekat.sL2toPZT5.L.value\n",
    "sPZT5toPZT4 = basekat.sPZT5toPZT4.L.value\n",
    "sPZT4toMC1 = basekat.sPZT4toMC1.L.value\n",
    "\n",
    "kat=basekat.deepcopy()\n",
    "text=(\"\"\"\n",
    "bp wx_at_EOBD x w nEOBDout\n",
    "bp wy_at_EOBD y w nEOBDout\n",
    "gouy gouyx x sEOBDtoL1\n",
    "gouy gouyy y sEOBDtoL1\n",
    "xaxis sEOBDtoL1 l lin 0 %g 45\"\"\") % (sEOBDtoL1+0.4)\n",
    "kat.parseCommands(text)\n",
    "out1=kat.run()\n",
    "out1_z = sEOBDtoL1-out1.x[::-1]\n",
    "gouyxmax1=max(out1['gouyx'])\n",
    "\n",
    "kat=basekat.deepcopy()\n",
    "text=(\"\"\"\n",
    "bp wx_at_L1 x w nL1out\n",
    "bp wy_at_L1 y w nL1out\n",
    "gouy gouyx x sL1toL2\n",
    "gouy gouyy y sL1toL2\n",
    "xaxis sL1toL2 l lin 0 %g 15\"\"\") % sL1toL2\n",
    "kat.parseCommands(text)\n",
    "\n",
    "out2=kat.run()\n",
    "out2_z = sL1toL2-out2.x[::-1] + max(out1_z)\n",
    "gouyxmax2=max(out2['gouyx'])\n",
    "\n",
    "kat=basekat.deepcopy()\n",
    "text=(\"\"\"\n",
    "bp wx_at_L2 x w nL2out\n",
    "bp wy_at_L2 y w nL2out\n",
    "gouy gouyx x sL2toPZT5\n",
    "gouy gouyy y sL2toPZT5\n",
    "xaxis sL2toPZT5 l lin 0 %g 69\"\"\") % sL2toPZT5\n",
    "\n",
    "kat.parseCommands(text)\n",
    "\n",
    "out3=kat.run()\n",
    "out3_z = sL2toPZT5-out3.x[::-1] + max(out2_z)\n",
    "gouyxmax3=max(out3['gouyx'])\n",
    "\n",
    "kat=basekat.deepcopy()\n",
    "text=(\"\"\"\n",
    "bp wx_at_PZT5 x w nPZT5refl\n",
    "bp wy_at_PZT5 y w nPZT5refl\n",
    "gouy gouyx x sPZT5toPZT4\n",
    "gouy gouyy y sPZT5toPZT4\n",
    "xaxis sPZT5toPZT4 l lin 0 %g 32\"\"\") % sPZT5toPZT4\n",
    "\n",
    "kat.parseCommands(text)\n",
    "out4=kat.run()\n",
    "out4_z = sPZT5toPZT4-out4.x[::-1] + max(out3_z)\n",
    "gouyxmax4=max(out4['gouyx'])\n",
    "\n",
    "kat=basekat.deepcopy()\n",
    "text=(\"\"\"\n",
    "bp wx_at_MC1 x w nPZT4refl\n",
    "bp wy_at_MC1 y w nPZT4refl\n",
    "gouy gouyx x sPZT4toMC1\n",
    "gouy gouyy y sPZT4toMC1\n",
    "xaxis sPZT4toMC1 l lin 0 %g 24\"\"\") % sPZT4toMC1\n",
    "\n",
    "kat.parseCommands(text)\n",
    "\n",
    "kat.saveScript('check.kat')\n",
    "\n",
    "out5=kat.run()\n",
    "out5_z = sPZT4toMC1-out5.x[::-1] + max(out4_z)\n",
    "gouyxmax5=max(out5['gouyx'])\n",
    "\n",
    "out_z = np.hstack((out1_z,out2_z,out3_z,out4_z,out5_z))\n",
    "out_wx = np.hstack((out1['wx_at_EOBD'][::-1],out2['wx_at_L1'][::-1],out3['wx_at_L2'][::-1],out4['wx_at_PZT5'][::-1],out5['wx_at_MC1'][::-1]))*mm\n",
    "\n",
    "out_gouyx = -np.hstack((out1['gouyx'][::-1]+gouyxmax2+gouyxmax3+gouyxmax4+gouyxmax5,\n",
    "                      out2['gouyx'][::-1]+gouyxmax3+gouyxmax4+gouyxmax5,\n",
    "                      out3['gouyx'][::-1]+gouyxmax4+gouyxmax5,\n",
    "                      out4['gouyx'][::-1]+gouyxmax5,\n",
    "                      out5['gouyx'][::-1]))\n",
    "label_h=max(out_wx)*1.2\n",
    "label_hoff=-0.05\n",
    "\n",
    "pl.figure()\n",
    "pl.subplot(211)\n",
    "pl.plot(out_z,out_wx, label='xaxis')\n",
    "pl.ylabel('Beam radius [mm]')\n",
    "pl.ylim((0,max(out_wx)*1.4))\n",
    "pl.axvline(0,0,max(out_wx)*0.7,linestyle='--',color='k')\n",
    "pl.annotate(s='EOBD',xy=(0+label_hoff,label_h))\n",
    "pl.axvline(sEOBDtoL1,0,max(out_wx)*0.7,linestyle='--',color='k')\n",
    "pl.annotate(s='L1',xy=(sEOBDtoL1+label_hoff,label_h))\n",
    "pl.axvline(sEOBDtoL1+sL1toL2,0,max(out_wx)*0.7,linestyle='--',color='k')\n",
    "pl.annotate(s='L2',xy=(sEOBDtoL1+sL1toL2+label_hoff,label_h))\n",
    "pl.axvline(sEOBDtoL1+sL1toL2+sL2toPZT5,0,max(out_wx)*0.7,linestyle='--',color='k')\n",
    "pl.annotate(s='PZT5',xy=(sEOBDtoL1+sL1toL2+sL2toPZT5+label_hoff,label_h))\n",
    "pl.axvline(sEOBDtoL1+sL1toL2+sL2toPZT5+sPZT5toPZT4,0,max(out_wx)*0.7,linestyle='--',color='k')\n",
    "pl.annotate(s='PZT4',xy=(sEOBDtoL1+sL1toL2+sL2toPZT5+sPZT5toPZT4+label_hoff,label_h))\n",
    "pl.axvline(sEOBDtoL1+sL1toL2+sL2toPZT5+sPZT5toPZT4+sPZT4toMC1,0,max(out_wx)*0.7,linestyle='--',color='k')\n",
    "pl.annotate(s='MC1',xy=(sEOBDtoL1+sL1toL2+sL2toPZT5+sPZT5toPZT4+sPZT4toMC1+label_hoff,label_h))\n",
    "pl.grid()\n",
    "pl.title('Beam profile between EOBD and cavity input mirror')\n",
    "\n",
    "pl.subplot(212)\n",
    "pl.plot(out_z,out_gouyx, label='xaxis')\n",
    "pl.xlabel('Distance from EOBD [m]')\n",
    "pl.ylabel('Gouy phase [deg]')\n",
    "pl.axvline(0,linestyle='--',color='k')\n",
    "pl.axvline(sEOBDtoL1,linestyle='--',color='k')\n",
    "pl.axvline(sEOBDtoL1+sL1toL2,linestyle='--',color='k')\n",
    "pl.axvline(sEOBDtoL1+sL1toL2+sL2toPZT5,linestyle='--',color='k')\n",
    "pl.axvline(sEOBDtoL1+sL1toL2+sL2toPZT5+sPZT5toPZT4,linestyle='--',color='k')\n",
    "pl.axvline(sEOBDtoL1+sL1toL2+sL2toPZT5+sPZT5toPZT4+sPZT4toMC1,linestyle='--',color='k')\n",
    "pl.axhline(-90,linestyle='--',color='k')\n",
    "pl.grid()\n",
    "pl.savefig('EOBDtoMC1profile.pdf')"
   ]
  },
  {
   "cell_type": "code",
   "execution_count": 92,
   "metadata": {
    "collapsed": false
   },
   "outputs": [
    {
     "name": "stdout",
     "output_type": "stream",
     "text": [
      "--------------------------------------------------------------\n",
      "Running kat - Started at 2016-02-01 11:58:14.033245\n",
      "\n",
      "Finished in 0:00:00.055777\n",
      "waist size at EOBD is 303.741837938um\n",
      "divergence angle at EOBD is 1.1150315057 mrad\n",
      "--------------------------------------------------------------\n",
      "Running kat - Started at 2016-02-01 11:58:14.132008\n",
      "\n",
      "Finished in 0:00:00.051933\n",
      "waist size at EOBD is 1026.79684161um\n",
      "divergence angle of cavity waist is 0.3298429691 mrad\n"
     ]
    }
   ],
   "source": [
    "# Calculate some useful beam parameters\n",
    "\n",
    "kat=basekat.deepcopy()\n",
    "kat.parseCommands('bp w0atEOBD x w0 nEOBDout')\n",
    "kat.noxaxis=True\n",
    "out=kat.run()\n",
    "\n",
    "print 'waist size at EOBD is '+str(out['w0atEOBD']*um)+'um'\n",
    "print 'divergence angle at EOBD is '+str(1064e-9/pl.pi/out['w0atEOBD']*1000)+' mrad'\n",
    "\n",
    "kat=basekat.deepcopy()\n",
    "kat.parseCommands('bp w0cav x w0 nMC2in')\n",
    "kat.noxaxis=True\n",
    "out=kat.run()\n",
    "\n",
    "print 'waist size at EOBD is '+str(out['w0cav']*um)+'um'\n",
    "print 'divergence angle of cavity waist is '+str(1064e-9/pl.pi/out['w0cav']*1000)+' mrad'\n"
   ]
  },
  {
   "cell_type": "code",
   "execution_count": 93,
   "metadata": {
    "collapsed": false
   },
   "outputs": [
    {
     "name": "stdout",
     "output_type": "stream",
     "text": [
      "PZT4 must be driven 2.1149825784 times harder than PZT5 to get tilt only\n"
     ]
    }
   ],
   "source": [
    "# calculate PZT pitch tilt degree of freedom \n",
    "sMC1toMC3 = basekat.sMC1toMC3.L.value\n",
    "d_PZT5to_cavw0 = sPZT5toPZT4 + sPZT4toMC1 + 0.5*sMC1toMC3\n",
    "d_PZT4to_cavw0 = sPZT4toMC1 + 0.5*sMC1toMC3\n",
    "drive_ratio = d_PZT5to_cavw0/d_PZT4to_cavw0\n",
    "print \"PZT4 must be driven \"+str(drive_ratio)+\" times harder than PZT5 to get tilt only\"\n"
   ]
  },
  {
   "cell_type": "code",
   "execution_count": 94,
   "metadata": {
    "collapsed": false
   },
   "outputs": [
    {
     "name": "stdout",
     "output_type": "stream",
     "text": [
      "--------------------------------------------------------------\n",
      "Running kat - Started at 2016-02-01 11:58:18.882731\n",
      "\n",
      "Finished in 0:00:03.971796\n",
      "HG01 mode is resonant at 14730000.0 Hz\n"
     ]
    },
    {
     "data": {
      "image/png": "[encoded data removed]",
      "text/plain": [
       "<matplotlib.figure.Figure at 0x10cae2510>"
      ]
     },
     "metadata": {},
     "output_type": "display_data"
    }
   ],
   "source": [
    "# Check resonance frequency of HG01 mode\n",
    "\n",
    "MHz=1e-6\n",
    "\n",
    "kat = basekat.deepcopy()\n",
    "\n",
    "kat.parseCommands(\"\"\"\n",
    "attr PZT5 ybeta 10u\n",
    "pd PDtrans nMCTRANS\n",
    "xaxis laser f lin 12M 17M 5000\"\"\")\n",
    "\n",
    "out=kat.run()\n",
    "\n",
    "pl.figure()\n",
    "pl.semilogy(out.x*MHz,out['PDtrans'])\n",
    "pl.xlabel('laser frequency [Hz]')\n",
    "pl.ylabel('Transmitted power [W]')\n",
    "pl.grid()\n",
    "xs=out.x\n",
    "maxval=max(out['PDtrans'])\n",
    "index_max=out['PDtrans'].argmax()\n",
    "max_f=xs[index_max]\n",
    "print \"HG01 mode is resonant at \"+str(max_f)+\" Hz\"\n",
    "#checkvec=out['PDtrans']-maxval\n"
   ]
  },
  {
   "cell_type": "code",
   "execution_count": 95,
   "metadata": {
    "collapsed": false
   },
   "outputs": [
    {
     "name": "stdout",
     "output_type": "stream",
     "text": [
      "--------------------------------------------------------------\n",
      "Running kat - Started at 2016-02-01 11:58:23.264065\n",
      "** Warning: name 'translation' already used. This may cause confusion.\n",
      "\n",
      "Finished in 0:00:00.144803\n",
      "--------------------------------------------------------------\n",
      "Running kat - Started at 2016-02-01 11:58:23.451959\n",
      "** Warning: name 'tilt' already used. This may cause confusion.\n",
      "\n",
      "Finished in 0:00:00.067178\n",
      "\n",
      "I-phase response to translation = -0.00273068801246 W/rad on PZT5\n",
      "Q-phase response to translation = 0.0696597054883 W/rad on PZT5\n",
      "I-phase response to tilt = 0.778151473951 W/rad on PZT5\n",
      "Q-phase response to tilt = -0.000328168657219 W/rad on PZT5\n",
      "\n",
      "Ratio of [ tilt->Iphase : trans->Qphase ] =  11.1707545775\n"
     ]
    }
   ],
   "source": [
    "# Check ratio of alignment error signal responses or two DOFs at 14730000 Hz jitter frequency\n",
    "# by using fsig method\n",
    "\n",
    "kat = basekat.deepcopy()\n",
    "\n",
    "Iphase = 72.35\n",
    "\n",
    "Qphase = Iphase - 90\n",
    "\n",
    "# Drive translation by driving PZT5 and PZT4 with equal amplitudes but opposite phases\n",
    "\n",
    "text=(\"\"\"\n",
    "fsig translation PZT5 ybeta $fdither 0 1\n",
    "fsig translation PZT4 ybeta $fdither 180 1\n",
    "\n",
    "pd2 ASCPDREFL_I $fjitter %g $fdither 0 nPDREFLin\n",
    "pd2 ASCPDREFL_Q $fjitter %g $fdither 0 nPDREFLin\n",
    "\"\"\") % (Iphase, Qphase)\n",
    "\n",
    "kat.parseCommands(text)\n",
    "kat.noxaxis=True\n",
    "out=kat.run()\n",
    "\n",
    "transI=out['ASCPDREFL_I']\n",
    "transQ=out['ASCPDREFL_Q']\n",
    "\n",
    "kat = basekat.deepcopy()\n",
    "\n",
    "# Drive tilt by driving PZT5 and PZT4 with opposite phases and the pre-calculated amplitude ratio\n",
    "text=(\"\"\"\n",
    "fsig tilt PZT5 ybeta $fdither 0 1\n",
    "fsig tilt PZT4 ybeta $fdither 180 %g\n",
    "\n",
    "pd2 ASCPDREFL_I $fjitter %g $fdither 0 nPDREFLin\n",
    "pd2 ASCPDREFL_Q $fjitter %g $fdither 0 nPDREFLin\n",
    "\"\"\") % (drive_ratio, Iphase, Qphase)\n",
    "\n",
    "kat.parseCommands(text)\n",
    "kat.noxaxis=True\n",
    "\n",
    "out=kat.run()\n",
    "\n",
    "tiltI=out['ASCPDREFL_I']\n",
    "tiltQ=out['ASCPDREFL_Q']\n",
    "\n",
    "# Print results for tilt and translation\n",
    "\n",
    "print \"\\nI-phase response to translation = \" +str(transI)+\" W/rad on PZT5\"\n",
    "print \"Q-phase response to translation = \" +str(transQ)+\" W/rad on PZT5\"\n",
    "print \"I-phase response to tilt = \" +str(tiltI)+\" W/rad on PZT5\"\n",
    "print \"Q-phase response to tilt = \" +str(tiltQ)+\" W/rad on PZT5\"\n",
    "\n",
    "print \"\\nRatio of [ tilt->Iphase : trans->Qphase ] =  \"+str(tiltI/transQ)"
   ]
  },
  {
   "cell_type": "code",
   "execution_count": 96,
   "metadata": {
    "collapsed": false
   },
   "outputs": [
    {
     "name": "stdout",
     "output_type": "stream",
     "text": [
      "--------------------------------------------------------------\n",
      "Running kat - Started at 2016-02-01 11:58:27.552947\n",
      "\n",
      "Finished in 0:00:00.118040\n",
      "--------------------------------------------------------------\n",
      "Running kat - Started at 2016-02-01 11:58:27.728138\n",
      "\n",
      "Finished in 0:00:00.095369\n",
      "--------------------------------------------------------------\n",
      "Running kat - Started at 2016-02-01 11:58:27.880740\n",
      "\n",
      "Finished in 0:00:00.131278\n",
      "--------------------------------------------------------------\n",
      "Running kat - Started at 2016-02-01 11:58:28.066026\n",
      "\n",
      "Finished in 0:00:00.135696\n"
     ]
    },
    {
     "data": {
      "image/png": "[encoded data removed]",
      "text/plain": [
       "<matplotlib.figure.Figure at 0x10bd13150>"
      ]
     },
     "metadata": {},
     "output_type": "display_data"
    }
   ],
   "source": [
    "# plot beam size and Gouy phase over the distance between MC3 and DBB1\n",
    "\n",
    "um=1e6\n",
    "mm=1e3\n",
    "\n",
    "sMCTRANStoDBBmmL = basekat.sMCTRANStoDBBmmL.L.value\n",
    "sDBBmmLtoPZT3 = basekat.sDBBmmLtoPZT3.L.value\n",
    "sPZT3toPZT2 = basekat.sPZT3toPZT2.L.value\n",
    "sPZT2toDBB1 = basekat.sPZT2toDBB1.L.value\n",
    "\n",
    "kat=basekat.deepcopy()\n",
    "kat.TMC.enabled = False\n",
    "text=(\"\"\"\n",
    "bp wx x w nMCTRANS\n",
    "bp wy y w nMCTRANS\n",
    "gouy gouyx x sMCTRANStoDBBmmL\n",
    "gouy gouyy y sMCTRANStoDBBmmL\n",
    "xaxis sMCTRANStoDBBmmL l lin 0 %g %g\"\"\") % (sMCTRANStoDBBmmL, round(sMCTRANStoDBBmmL*100))\n",
    "kat.parseCommands(text)\n",
    "out1=kat.run()\n",
    "out1_z = sMCTRANStoDBBmmL-out1.x[::-1]\n",
    "gouyxmax1=max(out1['gouyx'])\n",
    "\n",
    "kat=basekat.deepcopy()\n",
    "kat.TMC.enabled = False\n",
    "text=(\"\"\"\n",
    "bp wx x w nDBBmmLout\n",
    "bp wy y w nDBBmmLout\n",
    "gouy gouyx x sDBBmmLtoPZT3\n",
    "gouy gouyy y sDBBmmLtoPZT3\n",
    "xaxis sDBBmmLtoPZT3 l lin 0 %g %g\"\"\") % (sDBBmmLtoPZT3, round(sDBBmmLtoPZT3*100))\n",
    "kat.parseCommands(text)\n",
    "\n",
    "out2=kat.run()\n",
    "out2_z = sDBBmmLtoPZT3-out2.x[::-1] + max(out1_z)\n",
    "gouyxmax2=max(out2['gouyx'])\n",
    "\n",
    "kat=basekat.deepcopy()\n",
    "kat.TMC.enabled = False\n",
    "text=(\"\"\"\n",
    "bp wx x w nPZT3refl\n",
    "bp wy y w nPZT3refl\n",
    "gouy gouyx x sPZT3toPZT2\n",
    "gouy gouyy y sPZT3toPZT2\n",
    "xaxis sPZT3toPZT2 l lin 0 %g %g\"\"\") % (sPZT3toPZT2, round(sPZT3toPZT2*100))\n",
    "\n",
    "kat.parseCommands(text)\n",
    "kat.TMC.enabled = False\n",
    "out3=kat.run()\n",
    "out3_z = sPZT3toPZT2-out3.x[::-1] + max(out2_z)\n",
    "gouyxmax3=max(out3['gouyx'])\n",
    "\n",
    "kat=basekat.deepcopy()\n",
    "kat.TMC.enabled = False\n",
    "text=(\"\"\"\n",
    "bp wx x w nPZT2refl\n",
    "bp wy y w nPZT2refl\n",
    "gouy gouyx x sPZT2toDBB1\n",
    "gouy gouyy y sPZT2toDBB1\n",
    "xaxis sPZT2toDBB1 l lin 0 %g %g\"\"\") % (sPZT2toDBB1, round(sPZT2toDBB1*100))\n",
    "kat.parseCommands(text)\n",
    "out4=kat.run()\n",
    "out4_z = sPZT2toDBB1-out4.x[::-1] + max(out3_z)\n",
    "gouyxmax4=max(out4['gouyx'])\n",
    "\n",
    "out_z = np.hstack((out1_z,out2_z,out3_z,out4_z))\n",
    "out_wx = np.hstack((out1['wx'][::-1],out2['wx'][::-1],out3['wx'][::-1],out4['wx'][::-1]))*mm\n",
    "\n",
    "out_gouyx = -np.hstack((out1['gouyx'][::-1]+gouyxmax2+gouyxmax3+gouyxmax4,\n",
    "                      out2['gouyx'][::-1]+gouyxmax3+gouyxmax4,\n",
    "                      out3['gouyx'][::-1]+gouyxmax4,\n",
    "                      out4['gouyx'][::-1]))\n",
    "label_h=max(out_wx)*1.2\n",
    "label_hoff=-0.05\n",
    "\n",
    "pl.figure()\n",
    "pl.subplot(211)\n",
    "pl.plot(out_z,out_wx, label='xaxis')\n",
    "pl.ylabel('Beam radius [mm]')\n",
    "pl.ylim((0,max(out_wx)*1.4))\n",
    "pl.axvline(0,0,max(out_wx)*0.7,linestyle='--',color='k')\n",
    "pl.annotate(s='MC3',xy=(0+label_hoff,label_h))\n",
    "pl.axvline(sMCTRANStoDBBmmL,0,max(out_wx)*0.7,linestyle='--',color='k')\n",
    "pl.annotate(s='L3',xy=(sMCTRANStoDBBmmL+label_hoff,label_h))\n",
    "pl.axvline(sMCTRANStoDBBmmL+sDBBmmLtoPZT3,0,max(out_wx)*0.7,linestyle='--',color='k')\n",
    "pl.annotate(s='PZT3',xy=(sDBBmmLtoPZT3+sMCTRANStoDBBmmL+label_hoff,label_h))\n",
    "pl.axvline(sMCTRANStoDBBmmL+sDBBmmLtoPZT3+sPZT3toPZT2,0,max(out_wx)*0.7,linestyle='--',color='k')\n",
    "pl.annotate(s='PZT2',xy=(sDBBmmLtoPZT3+sMCTRANStoDBBmmL+sPZT3toPZT2+label_hoff,label_h))\n",
    "pl.axvline(sMCTRANStoDBBmmL+sDBBmmLtoPZT3+sPZT3toPZT2+sPZT2toDBB1,0,max(out_wx)*0.7,linestyle='--',color='k')\n",
    "pl.annotate(s='DBB in',xy=(sDBBmmLtoPZT3+sMCTRANStoDBBmmL+sPZT3toPZT2+sPZT2toDBB1+label_hoff,label_h))\n",
    "pl.grid()\n",
    "pl.title('Beam profile between first cavity output and second cavity input')\n",
    "\n",
    "pl.subplot(212)\n",
    "pl.plot(out_z,out_gouyx, label='xaxis')\n",
    "pl.xlabel('Distance from MC3 [m]')\n",
    "pl.ylabel('Gouy phase [deg]')\n",
    "pl.axvline(0,0,max(out_gouyx),linestyle='--',color='k')\n",
    "pl.axvline(sMCTRANStoDBBmmL,linestyle='--',color='k')\n",
    "pl.axvline(sMCTRANStoDBBmmL+sDBBmmLtoPZT3,linestyle='--',color='k')\n",
    "pl.axvline(sMCTRANStoDBBmmL+sDBBmmLtoPZT3+sPZT3toPZT2,linestyle='--',color='k')\n",
    "pl.axvline(sMCTRANStoDBBmmL+sDBBmmLtoPZT3+sPZT3toPZT2+sPZT2toDBB1,linestyle='--',color='k')\n",
    "pl.grid()\n",
    "pl.savefig('MC3toDBB1profile.pdf')"
   ]
  },
  {
   "cell_type": "code",
   "execution_count": 97,
   "metadata": {
    "collapsed": false,
    "scrolled": true
   },
   "outputs": [
    {
     "name": "stdout",
     "output_type": "stream",
     "text": [
      "Parsing `put PZT4 ybeta $mx1` into pykat object not implemented yet, added as extra line.\n",
      "--------------------------------------------------------------\n",
      "Running kat - Started at 2016-02-01 11:58:30.415563\n",
      "\n",
      "Finished in 0:00:00.139371\n",
      "Parsing `put PZT4 ybeta $PZT4scale` into pykat object not implemented yet, added as extra line.\n",
      "--------------------------------------------------------------\n",
      "Running kat - Started at 2016-02-01 11:58:30.713336\n",
      "\n",
      "Finished in 0:00:00.125835\n",
      "\n",
      "I-phase response to translation = -0.00273069595896 W/rad on PZT5\n",
      "Q-phase response to translation = 0.0696597019807 W/rad on PZT5\n",
      "I-phase response to tilt = 0.778120375575 W/rad on PZT5\n",
      "Q-phase response to tilt = -0.000339727871455 W/rad on PZT5\n",
      "\n",
      "Ratio of [ tilt->Iphase : trans->Qphase ] =  11.1703087072\n"
     ]
    },
    {
     "data": {
      "image/png": "[encoded data removed]",
      "text/plain": [
       "<matplotlib.figure.Figure at 0x109e53190>"
      ]
     },
     "metadata": {},
     "output_type": "display_data"
    }
   ],
   "source": [
    "# Check ratio of alignment error signal responses or two DOFs at 14730000 Hz jitter frequency\n",
    "# by using alignment sweep method\n",
    "uW=1e6\n",
    "urad=1e6\n",
    "\n",
    "kat = basekat.deepcopy()\n",
    "\n",
    "text = (\"\"\"\n",
    "pd1 ASCPDREFL_I $fjitter %g nPDREFLin\n",
    "pd1 ASCPDREFL_Q $fjitter %g nPDREFLin\n",
    "\n",
    "xaxis PZT5 ybeta lin 0 1u 100\n",
    "put PZT4 ybeta $mx1\n",
    "\n",
    "\"\"\") % (Iphase, Qphase)\n",
    "\n",
    "kat.parseCommands(text)\n",
    "out_trans = kat.run()\n",
    "\n",
    "kat = basekat.deepcopy()\n",
    "\n",
    "text = (\"\"\"\n",
    "pd1 ASCPDREFL_I $fjitter %g nPDREFLin\n",
    "pd1 ASCPDREFL_Q $fjitter %g nPDREFLin\n",
    "\n",
    "xaxis PZT5 ybeta lin 0 1u 100\n",
    "func PZT4scale = (-1) * $x1 * %g\n",
    "put PZT4 ybeta $PZT4scale\n",
    "\n",
    "\"\"\") % (Iphase, Qphase, drive_ratio)\n",
    "\n",
    "kat.parseCommands(text)\n",
    "out_tilt = kat.run()\n",
    "\n",
    "pl.figure()\n",
    "pl.plot(out_tilt.x*urad,out_tilt['ASCPDREFL_I']*uW,label='Tilt to I phase')\n",
    "pl.plot(out_tilt.x*urad,out_tilt['ASCPDREFL_Q']*uW,label='Tilt to Q phase')\n",
    "pl.plot(out_tilt.x*urad,out_trans['ASCPDREFL_I']*uW,label='Trans to I phase')\n",
    "pl.plot(out_tilt.x*urad,out_trans['ASCPDREFL_Q']*uW,label='Trans to Q phase')\n",
    "pl.legend(loc=0)\n",
    "pl.xlabel('PZT5 pitch [$\\mu$rad]')\n",
    "pl.ylabel('Signal output [$\\mu$W]')\n",
    "pl.grid()\n",
    "\n",
    "transI = out_trans['ASCPDREFL_I']\n",
    "transQ = out_trans['ASCPDREFL_Q']\n",
    "tiltI = out_tilt['ASCPDREFL_I']\n",
    "tiltQ = out_tilt['ASCPDREFL_Q']\n",
    "x=out_tilt.x\n",
    "\n",
    "transIslope=(transI[len(transI)-1]-transI[0])/(x[len(x)-1]-x[0])\n",
    "transQslope=(transQ[len(transQ)-1]-transQ[0])/(x[len(x)-1]-x[0])\n",
    "tiltIslope=(tiltI[len(tiltI)-1]-tiltI[0])/(x[len(x)-1]-x[0])\n",
    "tiltQslope=(tiltQ[len(tiltQ)-1]-tiltQ[0])/(x[len(x)-1]-x[0])\n",
    "\n",
    "\n",
    "print \"\\nI-phase response to translation = \" +str(transIslope)+\" W/rad on PZT5\"\n",
    "print \"Q-phase response to translation = \" +str(transQslope)+\" W/rad on PZT5\"\n",
    "print \"I-phase response to tilt = \" +str(tiltIslope)+\" W/rad on PZT5\"\n",
    "print \"Q-phase response to tilt = \" +str(tiltQslope)+\" W/rad on PZT5\"\n",
    "\n",
    "\n",
    "#print \"Quadrature sum of responses = \"+str(out['ASCPDREFL_I']+out['ASCPDREFL_Q'])\n",
    "print \"\\nRatio of [ tilt->Iphase : trans->Qphase ] =  \"+str(tiltIslope/transQslope)"
   ]
  },
  {
   "cell_type": "code",
   "execution_count": 98,
   "metadata": {
    "collapsed": false
   },
   "outputs": [
    {
     "name": "stdout",
     "output_type": "stream",
     "text": [
      "0.452548339959\n",
      "0.440650769191\n"
     ]
    }
   ],
   "source": [
    "cavw0 = 1.027e-3\n",
    "cavdiv = 1065e-9/(pl.pi*cavw0)\n",
    "\n",
    "L1 = sPZT5toPZT4\n",
    "L2 = d_PZT4to_cavw0\n",
    "\n",
    "transy=pl.sqrt(2)*L1\n",
    "transHG10 = transy/cavw0\n",
    "print transy\n",
    "print transHG10/1000"
   ]
  },
  {
   "cell_type": "code",
   "execution_count": 99,
   "metadata": {
    "collapsed": false
   },
   "outputs": [
    {
     "name": "stdout",
     "output_type": "stream",
     "text": [
      "1.57682348418\n",
      "0.000330087661914\n",
      "4.77698401399\n"
     ]
    }
   ],
   "source": [
    "tilty=pl.sqrt(2)*(L1/L2)\n",
    "tiltHG10 = tilty/cavdiv\n",
    "print tilty\n",
    "print cavdiv\n",
    "print tiltHG10/1000"
   ]
  },
  {
   "cell_type": "code",
   "execution_count": 101,
   "metadata": {
    "collapsed": false
   },
   "outputs": [
    {
     "name": "stdout",
     "output_type": "stream",
     "text": [
      "Parsing `put PZT2 ybeta $mx1` into pykat object not implemented yet, added as extra line.\n",
      "--------------------------------------------------------------\n",
      "Running kat - Started at 2016-02-01 11:58:50.720484\n",
      "Saving data 100%\n",
      "\n",
      "Finished in 0:00:00.165880\n",
      "Parsing `put PZT2 ybeta $PZT2scale` into pykat object not implemented yet, added as extra line.\n",
      "--------------------------------------------------------------\n",
      "Running kat - Started at 2016-02-01 11:58:50.934520\n",
      "Saving data 100%\n",
      "\n",
      "Finished in 0:00:00.137055\n"
     ]
    },
    {
     "data": {
      "image/png": "[encoded data removed]",
      "text/plain": [
       "<matplotlib.figure.Figure at 0x10bd2de50>"
      ]
     },
     "metadata": {},
     "output_type": "display_data"
    }
   ],
   "source": [
    "# Beginning second cavity alignment signals analysis\n",
    "\n",
    "kat = basekat.deepcopy()\n",
    "\n",
    "DBBIphase = -5\n",
    "DBBQphase = DBBIphase-90\n",
    "\n",
    "text = (\"\"\"\n",
    "pd1 DBBASCPDREFL_I $fjitter %g nDBBREFLPDin\n",
    "pd1 DBBASCPDREFL_Q $fjitter %g nDBBREFLPDin\n",
    "\n",
    "xaxis PZT3 ybeta lin 0 1u 100\n",
    "put PZT2 ybeta $mx1\n",
    "\n",
    "\"\"\") % (DBBIphase, DBBQphase)\n",
    "\n",
    "kat.parseCommands(text)\n",
    "\n",
    "out_trans=kat.run(printerr=1)\n",
    "\n",
    "kat = basekat.deepcopy()\n",
    "\n",
    "PZT2scale = 2.02\n",
    "\n",
    "text = (\"\"\"\n",
    "pd1 DBBASCPDREFL_I $fjitter %g nDBBREFLPDin\n",
    "pd1 DBBASCPDREFL_Q $fjitter %g nDBBREFLPDin\n",
    "\n",
    "xaxis PZT3 ybeta lin 0 1u 100\n",
    "func PZT2scale = (-1) * $x1 * %g\n",
    "put PZT2 ybeta $PZT2scale\n",
    "\"\"\") % (DBBIphase, DBBQphase, PZT2scale)\n",
    "\n",
    "kat.parseCommands(text)\n",
    "\n",
    "out_tilt=kat.run(printerr=1)\n",
    "\n",
    "uW=1e6\n",
    "urad=1e6\n",
    "\n",
    "pl.figure()\n",
    "pl.plot(out_trans.x*urad,out_trans['DBBASCPDREFL_I']*uW, label=\"Trans to I phase\")\n",
    "pl.plot(out_trans.x*urad,out_trans['DBBASCPDREFL_Q']*uW, label=\"Trans to Q phase\")\n",
    "\n",
    "pl.plot(out_tilt.x*urad,out_tilt['DBBASCPDREFL_I']*uW, label=\"Tilt to I phase\")\n",
    "pl.plot(out_tilt.x*urad,out_tilt['DBBASCPDREFL_Q']*uW, label=\"Tilt to Q phase\")\n",
    "\n",
    "pl.xlabel('PZT3 pitch [$\\mu$rad]')\n",
    "pl.ylabel('Signal output [$\\mu$W]')\n",
    "pl.grid()\n",
    "pl.title('Alignment signals for second cavity')\n",
    "pl.legend(loc=0)\n",
    "pl.savefig('second_cav_ASC.pdf')\n",
    "\n"
   ]
  },
  {
   "cell_type": "code",
   "execution_count": 20,
   "metadata": {
    "collapsed": false
   },
   "outputs": [
    {
     "data": {
      "text/plain": [
       "0.9111111111111111"
      ]
     },
     "execution_count": 20,
     "metadata": {},
     "output_type": "execute_result"
    }
   ],
   "source": [
    "1.0-144.0/1620.0"
   ]
  },
  {
   "cell_type": "code",
   "execution_count": 50,
   "metadata": {
    "collapsed": false
   },
   "outputs": [
    {
     "data": {
      "text/plain": [
       "0.8459930313588852"
      ]
     },
     "execution_count": 50,
     "metadata": {},
     "output_type": "execute_result"
    }
   ],
   "source": [
    "drive_ratio*0.4"
   ]
  },
  {
   "cell_type": "code",
   "execution_count": 1,
   "metadata": {
    "collapsed": false
   },
   "outputs": [
    {
     "data": {
      "text/plain": [
       "1.117"
      ]
     },
     "execution_count": 1,
     "metadata": {},
     "output_type": "execute_result"
    }
   ],
   "source": [
    "1.676-0.559"
   ]
  },
  {
   "cell_type": "code",
   "execution_count": 73,
   "metadata": {
    "collapsed": false
   },
   "outputs": [
    {
     "data": {
      "text/plain": [
       "['_Command__name',\n",
       " '_Command__removed',\n",
       " '_Command__unique',\n",
       " '__abstractmethods__',\n",
       " '__class__',\n",
       " '__delattr__',\n",
       " '__dict__',\n",
       " '__doc__',\n",
       " '__format__',\n",
       " '__getattribute__',\n",
       " '__hash__',\n",
       " '__init__',\n",
       " '__metaclass__',\n",
       " '__module__',\n",
       " '__new__',\n",
       " '__reduce__',\n",
       " '__reduce_ex__',\n",
       " '__repr__',\n",
       " '__setattr__',\n",
       " '__sizeof__',\n",
       " '__slotnames__',\n",
       " '__str__',\n",
       " '__subclasshook__',\n",
       " '__weakref__',\n",
       " '_abc_cache',\n",
       " '_abc_negative_cache',\n",
       " '_abc_negative_cache_version',\n",
       " '_abc_registry',\n",
       " '_cavity__c1',\n",
       " '_cavity__c2',\n",
       " '_cavity__n1',\n",
       " '_cavity__n2',\n",
       " '_kat',\n",
       " '_on_kat_add',\n",
       " 'enabled',\n",
       " 'getFinesseText',\n",
       " 'name',\n",
       " 'parseFinesseText',\n",
       " 'remove',\n",
       " 'removed',\n",
       " 'tag']"
      ]
     },
     "execution_count": 73,
     "metadata": {},
     "output_type": "execute_result"
    }
   ],
   "source": [
    "dir(kat.TMC)"
   ]
  },
  {
   "cell_type": "code",
   "execution_count": null,
   "metadata": {
    "collapsed": true
   },
   "outputs": [],
   "source": []
  }
 ],
 "metadata": {
  "kernelspec": {
   "display_name": "Python 2",
   "language": "python",
   "name": "python2"
  },
  "language_info": {
   "codemirror_mode": {
    "name": "ipython",
    "version": 2
   },
   "file_extension": ".py",
   "mimetype": "text/x-python",
   "name": "python",
   "nbconvert_exporter": "python",
   "pygments_lexer": "ipython2",
   "version": "2.7.10"
  }
 },
 "nbformat": 4,
 "nbformat_minor": 0
}
