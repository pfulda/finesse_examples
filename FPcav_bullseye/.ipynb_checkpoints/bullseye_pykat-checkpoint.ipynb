{
 "cells": [
  {
   "cell_type": "code",
   "execution_count": 1,
   "metadata": {
    "collapsed": false
   },
   "outputs": [
    {
     "name": "stdout",
     "output_type": "stream",
     "text": [
      "                                              ..-\n",
      "    PyKat 0.8.1           _                  '(\n",
      "                          \\`.|\\.__...-\"\"\"\"-_.\" )\n",
      "       ..+-----.._        /  ' `            .-'\n",
      "   . '            `:      7/* _/._\\    \\   (\n",
      "  (        '::;;+;;:      `-\"' =\" /,`\"\" `) /\n",
      "  L.        \\`:::a:f            c_/     n_'\n",
      "  ..`--...___`.  .    ,  \n",
      "   `^-....____:   +.      www.gwoptics.org/pykat\n",
      "\n"
     ]
    }
   ],
   "source": [
    "import pykat\n",
    "import pylab as pl\n",
    "\n",
    "%matplotlib inline"
   ]
  },
  {
   "cell_type": "code",
   "execution_count": 24,
   "metadata": {
    "collapsed": false
   },
   "outputs": [
    {
     "name": "stdout",
     "output_type": "stream",
     "text": [
      "Ignoring Gnuplot/Python terminal command 'gnuterm x11'\n"
     ]
    }
   ],
   "source": [
    "basekat = pykat.finesse.kat() #create a new kat object\n",
    "katfilename = 'Bullseye.kat'\n",
    "basekat.loadKatFile(katfilename)\n",
    "basekat.verbose=False"
   ]
  },
  {
   "cell_type": "code",
   "execution_count": 31,
   "metadata": {
    "collapsed": false
   },
   "outputs": [
    {
     "name": "stdout",
     "output_type": "stream",
     "text": [
      "\r",
      "Calculating 1%\r",
      "Saving data 0%\n",
      " --- cavity tracing\n",
      " cavity cav1:\n",
      "  cavity is stable! Eigenvalues:\n",
      "  q=1i, w0=581.96367um z=0m g=0\n",
      "  finesse : 312.583, round-trip power loss: 0.0199\n",
      "  opt. length: 2m, FSR: 149.89623MHz\n",
      "  FWHM: 479.54025kHz (pole: 239.77012kHz)\n",
      " \n",
      " \n",
      " computation time:  <1s\n",
      "\n"
     ]
    }
   ],
   "source": [
    "#print(basekat.m1.phi)\n",
    "#basekat.m1.phi=1\n",
    "#print(basekat.m1.phi)\n",
    "#basekat.saveScript('test_pykatsave.kat')\n",
    "kat=basekat.deepcopy()\n",
    "kat.noxaxis=True\n",
    "dir(kat)\n",
    "\n",
    "#kat.parseCommands(\"\"\"\n",
    "#    xaxis mygauss zrx lin 0.8 1.2 200\n",
    "#    put mygauss zry $x1\"\"\")\n",
    "\n",
    "\n",
    "out = kat.run(printerr=1)\n"
   ]
  },
  {
   "cell_type": "code",
   "execution_count": 12,
   "metadata": {
    "collapsed": false
   },
   "outputs": [
    {
     "data": {
      "image/png": "[encoded data removed]",
      "text/plain": [
       "<matplotlib.figure.Figure at 0x106f43250>"
      ]
     },
     "metadata": {},
     "output_type": "display_data"
    }
   ],
   "source": [
    "pl.figure()\n",
    "pl.plot(out.x,out[\"bpd1\"],label=\"BPD 1\")\n",
    "pl.plot(out.x,out[\"bpd2\"],label=\"BPD 2\")\n",
    "pl.legend()\n",
    "pl.grid()\n",
    "pl.xlabel(\"blah\")\n",
    "pl.ylabel(\"blah\")\n",
    "pl.title(\"blah\")\n",
    "\n",
    "pl.savefig(\"figname.pdf\")\n"
   ]
  },
  {
   "cell_type": "code",
   "execution_count": 14,
   "metadata": {
    "collapsed": false
   },
   "outputs": [
    {
     "name": "stdout",
     "output_type": "stream",
     "text": [
      "Removed existing object 'xaxis' of type <class 'pykat.commands.xaxis'> to add line 'xaxis m1 phi lin -180 180 360'\n",
      "\u001b[91m\n",
      "------------------------------------------------------------\n",
      "Error from Finesse:\n",
      " put: parameter mygauss zry out of range\n",
      "------------------------------------------------------------\n",
      "\u001b[0m\n"
     ]
    },
    {
     "ename": "SystemExit",
     "evalue": "1",
     "output_type": "error",
     "traceback": [
      "An exception has occurred, use %tb to see the full traceback.\n",
      "\u001b[0;31mSystemExit\u001b[0m\u001b[0;31m:\u001b[0m 1\n"
     ]
    },
    {
     "name": "stderr",
     "output_type": "stream",
     "text": [
      "To exit: use 'exit', 'quit', or Ctrl-D.\n"
     ]
    }
   ],
   "source": [
    "kat2 = basekat.deepcopy()\n",
    "\n",
    "\n",
    "kat2.parseCommands(\"\"\"\n",
    "        xaxis m1 phi lin -180 180 360\n",
    "        \"\"\")\n",
    "out2 = kat2.run()\n",
    "\n",
    "pl.figure()\n",
    "pl.plot(out.x,out[\"bpd1\"],label=\"BPD 1\")\n",
    "pl.plot(out.x,out[\"bpd2\"],label=\"BPD 2\")\n",
    "pl.legend()\n",
    "pl.grid()\n",
    "pl.xlabel(\"blah\")\n",
    "pl.ylabel(\"blah\")\n",
    "pl.title(\"blah\")\n",
    "\n"
   ]
  },
  {
   "cell_type": "code",
   "execution_count": 34,
   "metadata": {
    "collapsed": false
   },
   "outputs": [
    {
     "data": {
      "text/plain": [
       "{u'bs1': <abc.pykat.components.beamSplitter_185 at 0x107266050>,\n",
       " u'bs2': <abc.pykat.components.beamSplitter_187 at 0x10726fc90>,\n",
       " u'eom': <abc.pykat.components.modulator_184 at 0x106ab0c50>,\n",
       " u'l1': <abc.pykat.components.laser_183 at 0x106ab0790>,\n",
       " u'm1': <abc.pykat.components.mirror_178 at 0x10727c310>,\n",
       " u'm2': <abc.pykat.components.mirror_181 at 0x1071fc4d0>,\n",
       " u's1': <abc.pykat.components.space_182 at 0x1072a5290>,\n",
       " u's2': <abc.pykat.components.space_180 at 0x1071fcc90>,\n",
       " u's3': <abc.pykat.components.space_177 at 0x107283e90>,\n",
       " u's4': <abc.pykat.components.space_179 at 0x106aa1210>,\n",
       " u's_cav': <abc.pykat.components.space_186 at 0x10726f9d0>}"
      ]
     },
     "execution_count": 34,
     "metadata": {},
     "output_type": "execute_result"
    }
   ],
   "source": [
    "kat.components"
   ]
  },
  {
   "cell_type": "code",
   "execution_count": null,
   "metadata": {
    "collapsed": true
   },
   "outputs": [],
   "source": []
  }
 ],
 "metadata": {
  "kernelspec": {
   "display_name": "Python 2",
   "language": "python",
   "name": "python2"
  },
  "language_info": {
   "codemirror_mode": {
    "name": "ipython",
    "version": 2
   },
   "file_extension": ".py",
   "mimetype": "text/x-python",
   "name": "python",
   "nbconvert_exporter": "python",
   "pygments_lexer": "ipython2",
   "version": "2.7.10"
  }
 },
 "nbformat": 4,
 "nbformat_minor": 0
}
