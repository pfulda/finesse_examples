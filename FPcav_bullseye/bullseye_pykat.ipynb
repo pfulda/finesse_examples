{
 "cells": [
  {
   "cell_type": "code",
   "execution_count": 6,
   "metadata": {
    "collapsed": false
   },
   "outputs": [],
   "source": [
    "import pykat\n",
    "import pylab as pl\n",
    "\n",
    "%matplotlib inline"
   ]
  },
  {
   "cell_type": "code",
   "execution_count": 7,
   "metadata": {
    "collapsed": false
   },
   "outputs": [
    {
     "name": "stdout",
     "output_type": "stream",
     "text": [
      "Ignoring Gnuplot/Python terminal command 'gnuterm x11'\n"
     ]
    }
   ],
   "source": [
    "basekat = pykat.finesse.kat() #create a new kat object\n",
    "katfilename = 'Bullseye.kat'\n",
    "basekat.loadKatFile(katfilename)\n",
    "basekat.verbose=False"
   ]
  },
  {
   "cell_type": "code",
   "execution_count": 31,
   "metadata": {
    "collapsed": false
   },
   "outputs": [
    {
     "name": "stdout",
     "output_type": "stream",
     "text": [
      "\r",
      "Calculating 1%\r",
      "Saving data 0%\n",
      " --- cavity tracing\n",
      " cavity cav1:\n",
      "  cavity is stable! Eigenvalues:\n",
      "  q=1i, w0=581.96367um z=0m g=0\n",
      "  finesse : 312.583, round-trip power loss: 0.0199\n",
      "  opt. length: 2m, FSR: 149.89623MHz\n",
      "  FWHM: 479.54025kHz (pole: 239.77012kHz)\n",
      " \n",
      " \n",
      " computation time:  <1s\n",
      "\n"
     ]
    }
   ],
   "source": [
    "#print(basekat.m1.phi)\n",
    "#basekat.m1.phi=1\n",
    "#print(basekat.m1.phi)\n",
    "#basekat.saveScript('test_pykatsave.kat')\n",
    "kat=basekat.deepcopy()\n",
    "kat.noxaxis=True\n",
    "dir(kat)\n",
    "\n",
    "#kat.parseCommands(\"\"\"\n",
    "#    xaxis mygauss zrx lin 0.8 1.2 200\n",
    "#    put mygauss zry $x1\"\"\")\n",
    "\n",
    "\n",
    "out = kat.run(printerr=1)\n"
   ]
  },
  {
   "cell_type": "code",
   "execution_count": 12,
   "metadata": {
    "collapsed": false
   },
   "outputs": [
    {
     "data": {
      "image/png": "[encoded data removed]",
      "text/plain": [
       "<matplotlib.figure.Figure at 0x106f43250>"
      ]
     },
     "metadata": {},
     "output_type": "display_data"
    }
   ],
   "source": [
    "pl.figure()\n",
    "pl.plot(out.x,out[\"bpd1\"],label=\"BPD 1\")\n",
    "pl.plot(out.x,out[\"bpd2\"],label=\"BPD 2\")\n",
    "pl.legend()\n",
    "pl.grid()\n",
    "pl.xlabel(\"blah\")\n",
    "pl.ylabel(\"blah\")\n",
    "pl.title(\"blah\")\n",
    "\n",
    "pl.savefig(\"figname.pdf\")\n"
   ]
  },
  {
   "cell_type": "code",
   "execution_count": 14,
   "metadata": {
    "collapsed": false
   },
   "outputs": [
    {
     "name": "stdout",
     "output_type": "stream",
     "text": [
      "Removed existing object 'xaxis' of type <class 'pykat.commands.xaxis'> to add line 'xaxis m1 phi lin -180 180 360'\n",
      "\u001b[91m\n",
      "------------------------------------------------------------\n",
      "Error from Finesse:\n",
      " put: parameter mygauss zry out of range\n",
      "------------------------------------------------------------\n",
      "\u001b[0m\n"
     ]
    },
    {
     "ename": "SystemExit",
     "evalue": "1",
     "output_type": "error",
     "traceback": [
      "An exception has occurred, use %tb to see the full traceback.\n",
      "\u001b[0;31mSystemExit\u001b[0m\u001b[0;31m:\u001b[0m 1\n"
     ]
    },
    {
     "name": "stderr",
     "output_type": "stream",
     "text": [
      "To exit: use 'exit', 'quit', or Ctrl-D.\n"
     ]
    }
   ],
   "source": [
    "kat2 = basekat.deepcopy()\n",
    "\n",
    "\n",
    "kat2.parseCommands(\"\"\"\n",
    "        xaxis m1 phi lin -180 180 360\n",
    "        \"\"\")\n",
    "out2 = kat2.run()\n",
    "\n",
    "pl.figure()\n",
    "pl.plot(out.x,out[\"bpd1\"],label=\"BPD 1\")\n",
    "pl.plot(out.x,out[\"bpd2\"],label=\"BPD 2\")\n",
    "pl.legend()\n",
    "pl.grid()\n",
    "pl.xlabel(\"blah\")\n",
    "pl.ylabel(\"blah\")\n",
    "pl.title(\"blah\")\n",
    "\n"
   ]
  },
  {
   "cell_type": "code",
   "execution_count": 34,
   "metadata": {
    "collapsed": false
   },
   "outputs": [
    {
     "data": {
      "text/plain": [
       "{u'bs1': <abc.pykat.components.beamSplitter_185 at 0x107266050>,\n",
       " u'bs2': <abc.pykat.components.beamSplitter_187 at 0x10726fc90>,\n",
       " u'eom': <abc.pykat.components.modulator_184 at 0x106ab0c50>,\n",
       " u'l1': <abc.pykat.components.laser_183 at 0x106ab0790>,\n",
       " u'm1': <abc.pykat.components.mirror_178 at 0x10727c310>,\n",
       " u'm2': <abc.pykat.components.mirror_181 at 0x1071fc4d0>,\n",
       " u's1': <abc.pykat.components.space_182 at 0x1072a5290>,\n",
       " u's2': <abc.pykat.components.space_180 at 0x1071fcc90>,\n",
       " u's3': <abc.pykat.components.space_177 at 0x107283e90>,\n",
       " u's4': <abc.pykat.components.space_179 at 0x106aa1210>,\n",
       " u's_cav': <abc.pykat.components.space_186 at 0x10726f9d0>}"
      ]
     },
     "execution_count": 34,
     "metadata": {},
     "output_type": "execute_result"
    }
   ],
   "source": [
    "kat.components"
   ]
  },
  {
   "cell_type": "code",
   "execution_count": 35,
   "metadata": {
    "collapsed": false
   },
   "outputs": [
    {
     "name": "stdout",
     "output_type": "stream",
     "text": [
      "Ignoring Gnuplot/Python terminal command 'gnuterm x11'\n",
      "Removed existing object 'xaxis' of type <class 'pykat.commands.xaxis'> to add line 'xaxis mygauss zrx lin 0.8 1.2 200'\n"
     ]
    }
   ],
   "source": [
    "basekat = pykat.finesse.kat() #create a new kat object\n",
    "katfilename = 'Bullseye.kat'\n",
    "basekat.loadKatFile(katfilename)\n",
    "basekat.verbose=False\n",
    "\n",
    "\n",
    "kat=basekat.deepcopy()\n",
    "kat.m2.Rc = 1.8\n",
    "#kat.m1.T=1\n",
    "#kat.m1.R=0\n",
    "#kat.m2.T=1\n",
    "#kat.m2.R=0\n",
    "\n",
    "kat.parseCommands(\"\"\"\n",
    "    ad HG00trans 0 0 0 n9 \n",
    "    ad HG20trans 2 0 0 n9\n",
    "    ad HG02trans 0 2 0 n9\n",
    "    ad HG11trans 1 1 0 n9\n",
    "    ad HG40trans 4 0 0 n9\n",
    "    ad HG31trans 3 1 0 n9\n",
    "    ad HG22trans 2 2 0 n9\n",
    "    ad HG13trans 1 3 0 n9\n",
    "    ad HG04trans 0 4 0 n9\n",
    "    \"\"\")\n",
    "\n",
    "kat.parseCommands(\"\"\"\n",
    "    gauss mygauss m1 n6 581.96367u 0 \n",
    "    xaxis mygauss zrx lin 0.8 1.2 200\n",
    "    put mygauss zry $x1\"\"\")\n",
    "\n",
    "out=kat.run()"
   ]
  },
  {
   "cell_type": "code",
   "execution_count": 36,
   "metadata": {
    "collapsed": false
   },
   "outputs": [
    {
     "data": {
      "image/png": "[encoded data removed]",
      "text/plain": [
       "<matplotlib.figure.Figure at 0x10aa211d0>"
      ]
     },
     "metadata": {},
     "output_type": "display_data"
    }
   ],
   "source": [
    "pl.figure()\n",
    "pl.semilogy(out.x,out[\"HG00trans\"],label=\"HG00trans\")\n",
    "pl.semilogy(out.x,out[\"HG20trans\"],'--',label=\"HG20trans\")\n",
    "pl.semilogy(out.x,out[\"HG11trans\"],'--',label=\"HG11trans\")\n",
    "pl.semilogy(out.x,out[\"HG02trans\"],'--',label=\"HG02trans\")\n",
    "pl.semilogy(out.x,out[\"HG40trans\"],label=\"HG40trans\")\n",
    "pl.semilogy(out.x,out[\"HG31trans\"],label=\"HG31trans\")\n",
    "pl.semilogy(out.x,out[\"HG22trans\"],label=\"HG22trans\")\n",
    "pl.semilogy(out.x,out[\"HG13trans\"],label=\"HG13trans\")\n",
    "pl.semilogy(out.x,out[\"HG04trans\"],label=\"HG04trans\")\n",
    "pl.legend()\n",
    "pl.grid()\n",
    "pl.xlabel('Mode mismatch zRx [m]')\n",
    "pl.ylabel('Field amplitude [$\\sqrt{W}$]')\n",
    "pl.savefig('trans_amps_cavon_rcis1pt8.pdf')\n",
    "#for det in kat.get"
   ]
  },
  {
   "cell_type": "code",
   "execution_count": 20,
   "metadata": {
    "collapsed": false
   },
   "outputs": [
    {
     "ename": "TypeError",
     "evalue": "isinstance() arg 2 must be a class, type, or tuple of classes and types",
     "output_type": "error",
     "traceback": [
      "\u001b[0;31m---------------------------------------------------------------------------\u001b[0m",
      "\u001b[0;31mTypeError\u001b[0m                                 Traceback (most recent call last)",
      "\u001b[0;32m<ipython-input-20-83f2e7756acb>\u001b[0m in \u001b[0;36m<module>\u001b[0;34m()\u001b[0m\n\u001b[0;32m----> 1\u001b[0;31m \u001b[0mkat\u001b[0m\u001b[0;34m.\u001b[0m\u001b[0mgetAll\u001b[0m\u001b[0;34m(\u001b[0m\u001b[0mkat\u001b[0m\u001b[0;34m.\u001b[0m\u001b[0mdetectors\u001b[0m\u001b[0;34m)\u001b[0m\u001b[0;34m\u001b[0m\u001b[0m\n\u001b[0m",
      "\u001b[0;32m/Users/paul/git/pykat2/pykat/pykat/finesse.pyc\u001b[0m in \u001b[0;36mgetAll\u001b[0;34m(self, type)\u001b[0m\n\u001b[1;32m    545\u001b[0m             \u001b[0mb\u001b[0m \u001b[0;34m=\u001b[0m \u001b[0mgetattr\u001b[0m\u001b[0;34m(\u001b[0m\u001b[0mself\u001b[0m\u001b[0;34m,\u001b[0m \u001b[0ma\u001b[0m\u001b[0;34m)\u001b[0m\u001b[0;34m\u001b[0m\u001b[0m\n\u001b[1;32m    546\u001b[0m \u001b[0;34m\u001b[0m\u001b[0m\n\u001b[0;32m--> 547\u001b[0;31m             \u001b[0;32mif\u001b[0m \u001b[0misinstance\u001b[0m\u001b[0;34m(\u001b[0m\u001b[0mb\u001b[0m\u001b[0;34m,\u001b[0m \u001b[0mtype\u001b[0m\u001b[0;34m)\u001b[0m\u001b[0;34m:\u001b[0m\u001b[0;34m\u001b[0m\u001b[0m\n\u001b[0m\u001b[1;32m    548\u001b[0m                 \u001b[0mitems\u001b[0m\u001b[0;34m.\u001b[0m\u001b[0mappend\u001b[0m\u001b[0;34m(\u001b[0m\u001b[0mb\u001b[0m\u001b[0;34m)\u001b[0m\u001b[0;34m\u001b[0m\u001b[0m\n\u001b[1;32m    549\u001b[0m \u001b[0;34m\u001b[0m\u001b[0m\n",
      "\u001b[0;31mTypeError\u001b[0m: isinstance() arg 2 must be a class, type, or tuple of classes and types"
     ]
    }
   ],
   "source": []
  },
  {
   "cell_type": "code",
   "execution_count": 23,
   "metadata": {
    "collapsed": false
   },
   "outputs": [
    {
     "name": "stdout",
     "output_type": "stream",
     "text": [
      "[u'inphase', u'HG00trans', u'HG20trans', u'HG02trans', u'HG11trans', u'HG40trans', u'HG31trans', u'HG22trans', u'HG13trans', u'HG04trans']\n"
     ]
    }
   ],
   "source": [
    "dir(out)\n",
    "print out.ylabels"
   ]
  },
  {
   "cell_type": "code",
   "execution_count": null,
   "metadata": {
    "collapsed": true
   },
   "outputs": [],
   "source": []
  }
 ],
 "metadata": {
  "kernelspec": {
   "display_name": "Python 2",
   "language": "python",
   "name": "python2"
  },
  "language_info": {
   "codemirror_mode": {
    "name": "ipython",
    "version": 2
   },
   "file_extension": ".py",
   "mimetype": "text/x-python",
   "name": "python",
   "nbconvert_exporter": "python",
   "pygments_lexer": "ipython2",
   "version": "2.7.10"
  }
 },
 "nbformat": 4,
 "nbformat_minor": 0
}
