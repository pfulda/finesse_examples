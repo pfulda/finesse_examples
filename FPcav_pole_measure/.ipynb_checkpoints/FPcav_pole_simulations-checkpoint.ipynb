{
 "cells": [
  {
   "cell_type": "code",
   "execution_count": 1,
   "metadata": {
    "collapsed": false
   },
   "outputs": [
    {
     "name": "stdout",
     "output_type": "stream",
     "text": [
      "                                              ..-\n",
      "    PyKat 0.8.1           _                  '(\n",
      "                          \\`.|\\.__...-\"\"\"\"-_.\" )\n",
      "       ..+-----.._        /  ' `            .-'\n",
      "   . '            `:      7/* _/._\\    \\   (\n",
      "  (        '::;;+;;:      `-\"' =\" /,`\"\" `) /\n",
      "  L.        \\`:::a:f            c_/     n_'\n",
      "  ..`--...___`.  .    ,  \n",
      "   `^-....____:   +.      www.gwoptics.org/pykat\n",
      "\n"
     ]
    }
   ],
   "source": [
    "import pylab as pl\n",
    "import pykat\n",
    "% matplotlib inline\n",
    "import matplotlib"
   ]
  },
  {
   "cell_type": "code",
   "execution_count": null,
   "metadata": {
    "collapsed": false
   },
   "outputs": [],
   "source": [
    "pi=pl.pi\n",
    "\n",
    "basekatfile = 'Tcav_RFjitter.kat'\n",
    "\n",
    "basekat = pykat.finesse.kat()\n",
    "basekat.verbose = False\n",
    "basekat.loadKatFile(basekatfile)\n",
    "kat = basekat.deepcopy()\n",
    "\n",
    "cavpole=573.22517*1e3\n",
    "\n",
    "kat.parseCommands(\"\"\"\n",
    "        pd1 pdtrans 1 nMCTRANS\n",
    "        pd1 pdin 1 nMC1in*\n",
    "        \n",
    "        xaxis sweptEOM f log 1k 100M 1000\n",
    "        put sweptEOAM f $x1\n",
    "        put pdtrans f1 $x1\n",
    "        put pdin f1 $x1\n",
    "\n",
    "        yaxis log abs:deg\n",
    "        \"\"\")\n",
    "\n",
    "kat.MC2.phi = 0.1\n",
    "\n",
    "am_amps = pl.logspace(0,-3,150)\n",
    "\n",
    "cm = pl.cm.spectral_r\n",
    "norm = matplotlib.colors.Normalize(vmin=pl.log10(min(kat.sweptEOM.midx.value/am_amps)), vmax=pl.log10(max(kat.sweptEOM.midx.value/am_amps)))\n",
    "s_m = matplotlib.cm.ScalarMappable(cmap=cm, norm=norm)\n",
    "s_m.set_array([])\n",
    "\n",
    "fig=pl.figure()\n",
    "ax1=fig.add_subplot(2,1,1)\n",
    "pl.ylabel('TF magnitude')\n",
    "pl.title('TMC input PD to trans PD TF for different pm/am ratios')\n",
    "cb = pl.colorbar(s_m)\n",
    "cb.set_label(\"log$_{10}$(pm/am ratio)\")\n",
    "ax2=fig.add_subplot(2,1,2)\n",
    "pl.ylabel('TF phase')\n",
    "cb = pl.colorbar(s_m)\n",
    "cb.set_label(\"log$_{10}$(pm/am ratio)\")\n",
    "\n",
    "\n",
    "for i, amp in enumerate(am_amps):\n",
    "    tkat = kat.deepcopy()\n",
    "    tkat.sweptEOAM.midx = amp\n",
    "    out = tkat.run()\n",
    "    TF = out[\"pdtrans\"]/out[\"pdin\"]\n",
    "    TFmag = abs(TF)\n",
    "    TFphase = pl.angle(TF)*180/pi\n",
    "    am2pm = tkat.sweptEOAM.midx.value/tkat.sweptEOM.midx.value\n",
    "    c = s_m.to_rgba(-pl.log10(am2pm))\n",
    "    ax1.loglog(out.x,TFmag,label=labelstr,color=c,linewidth=1)\n",
    "    ax2.semilogx(out.x,TFphase,color=c,linewidth=1)\n",
    "ax1.axhline(y=TFmag[0]/pl.sqrt(2),linewidth=0.5,color='black')\n",
    "ax2.axhline(y=-45,linewidth=0.5,color='black')\n",
    "ax1.axvline(x=cavpole,linewidth=0.5,color='black')\n",
    "ax2.axvline(x=cavpole,linewidth=0.5,color='black')\n",
    "pl.ylabel('TF phase [deg]')\n",
    "pl.xlabel('Frequency [Hz]')\n",
    "fig.tight_layout()\n",
    "\n",
    "fig.savefig('plots/cavpole_w_am2pm_ratios_spectral_r.pdf')"
   ]
  },
  {
   "cell_type": "code",
   "execution_count": null,
   "metadata": {
    "collapsed": true
   },
   "outputs": [],
   "source": []
  }
 ],
 "metadata": {
  "kernelspec": {
   "display_name": "Python 2",
   "language": "python",
   "name": "python2"
  },
  "language_info": {
   "codemirror_mode": {
    "name": "ipython",
    "version": 2
   },
   "file_extension": ".py",
   "mimetype": "text/x-python",
   "name": "python",
   "nbconvert_exporter": "python",
   "pygments_lexer": "ipython2",
   "version": "2.7.10"
  }
 },
 "nbformat": 4,
 "nbformat_minor": 0
}
